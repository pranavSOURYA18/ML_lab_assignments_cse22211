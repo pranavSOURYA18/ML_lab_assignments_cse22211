{
  "cells": [
    {
      "cell_type": "code",
      "execution_count": null,
      "id": "4c72e158",
      "metadata": {
        "id": "4c72e158",
        "outputId": "b2f16c40-af3c-44fe-b43a-d63c6dbbf816"
      },
      "outputs": [
        {
          "name": "stdout",
          "output_type": "stream",
          "text": [
            "Class distribution:\n",
            "0    17014\n",
            "1      866\n",
            "Name: fraudulent, dtype: int64\n",
            "One or both class DataFrames are empty. Please check your class labels and data.\n"
          ]
        }
      ],
      "source": [
        "import pandas as pd\n",
        "import numpy as np\n",
        "\n",
        "\n",
        "file_path = \"C:/Users/year3/Documents/fake_job_postings.csv\"\n",
        "data = pd.read_csv(file_path)\n",
        "\n",
        "\n",
        "features = data.iloc[:, :-1]\n",
        "labels = data.iloc[:, -1]\n",
        "\n",
        "\n",
        "numeric_features = features.select_dtypes(include=[np.number])\n",
        "\n",
        "\n",
        "numeric_features = numeric_features.fillna(numeric_features.mean())\n",
        "\n",
        "\n",
        "print(\"Class distribution:\")\n",
        "print(labels.value_counts())\n",
        "\n",
        "\n",
        "class_1 = 'telecommuting'\n",
        "class_2 = 'has_company_logo'\n",
        "\n",
        "\n",
        "class_1_data = numeric_features[labels == class_1]\n",
        "class_2_data = numeric_features[labels == class_2]\n",
        "\n",
        "\n",
        "if not class_1_data.empty and not class_2_data.empty:\n",
        "\n",
        "    centroid_class_1 = np.mean(class_1_data, axis=0)\n",
        "    centroid_class_2 = np.mean(class_2_data, axis=0)\n",
        "    print(f\"Centroid of Class {class_1}:\")\n",
        "    print(centroid_class_1)\n",
        "    print(f\"Centroid of Class {class_2}:\")\n",
        "    print(centroid_class_2)\n",
        "\n",
        "else:\n",
        "    print(\"One or both class DataFrames are empty. Please check your class labels and data.\")\n",
        "\n"
      ]
    },
    {
      "cell_type": "code",
      "execution_count": null,
      "id": "c5a1e665",
      "metadata": {
        "id": "c5a1e665",
        "outputId": "0d0bb82e-5be7-4690-e09e-d6ff3e41d172"
      },
      "outputs": [
        {
          "name": "stdout",
          "output_type": "stream",
          "text": [
            "Class distribution:\n",
            "0    17014\n",
            "1      866\n",
            "Name: fraudulent, dtype: int64\n",
            "One or both class DataFrames are empty. Please check your class labels and data.\n"
          ]
        }
      ],
      "source": [
        "import pandas as pd\n",
        "import numpy as np\n",
        "\n",
        "\n",
        "file_path = \"C:/Users/year3/Documents/fake_job_postings.csv\"\n",
        "data = pd.read_csv(file_path)\n",
        "\n",
        "\n",
        "features = data.iloc[:, :-1]\n",
        "labels = data.iloc[:, -1]\n",
        "\n",
        "\n",
        "numeric_features = features.select_dtypes(include=[np.number])\n",
        "\n",
        "\n",
        "numeric_features = numeric_features.fillna(numeric_features.mean())\n",
        "\n",
        "\n",
        "print(\"Class distribution:\")\n",
        "print(labels.value_counts())\n",
        "\n",
        "\n",
        "class1 = 'telecommuting'\n",
        "class2 = 'has_company_logo'\n",
        "\n",
        "\n",
        "class1_data = numeric_features[labels == class_1]\n",
        "class2_data = numeric_features[labels == class_2]\n",
        "\n",
        "\n",
        "if not class_1_data.empty and not class_2_data.empty:\n",
        "\n",
        "    centroid_class_1 = np.mean(class_1_data, axis=0)\n",
        "    centroid_class_2 = np.mean(class_2_data, axis=0)\n",
        "\n",
        "\n",
        "    spread_class_1 = np.std(class_1_data, axis=0)\n",
        "    spread_class_2 = np.std(class_2_data, axis=0)\n",
        "\n",
        "\n",
        "    print(f\"Centroid of Class {class_1}:\")\n",
        "    print(centroid_class_1)\n",
        "    print(f\"Spread (Standard Deviation) of Class {class_1}:\")\n",
        "    print(spread_class_1)\n",
        "    print(f\"Centroid of Class {class_2}:\")\n",
        "    print(centroid_class_2)\n",
        "    print(f\"Spread (Standard Deviation) of Class {class_2}:\")\n",
        "    print(spread_class_2)\n",
        "else:\n",
        "    print(\"One or both class DataFrames are empty. Please check your class labels and data.\")\n"
      ]
    },
    {
      "cell_type": "code",
      "execution_count": null,
      "id": "595dfc93",
      "metadata": {
        "id": "595dfc93"
      },
      "outputs": [],
      "source": []
    }
  ],
  "metadata": {
    "kernelspec": {
      "display_name": "Python 3 (ipykernel)",
      "language": "python",
      "name": "python3"
    },
    "language_info": {
      "codemirror_mode": {
        "name": "ipython",
        "version": 3
      },
      "file_extension": ".py",
      "mimetype": "text/x-python",
      "name": "python",
      "nbconvert_exporter": "python",
      "pygments_lexer": "ipython3",
      "version": "3.11.4"
    },
    "colab": {
      "provenance": []
    }
  },
  "nbformat": 4,
  "nbformat_minor": 5
}