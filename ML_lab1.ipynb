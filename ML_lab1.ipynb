{
 "cells": [
  {
   "cell_type": "code",
   "execution_count": 11,
   "id": "50aac5c9-b8c7-48ee-b726-992c50bb46c7",
   "metadata": {},
   "outputs": [
    {
     "name": "stdout",
     "output_type": "stream",
     "text": [
      "The pairs are 2\n"
     ]
    }
   ],
   "source": [
    "def get_sum_10(arr,n,x):\n",
    "    count=0\n",
    "    \n",
    "    for i in range (0,n):\n",
    "        for j in range(i+1,n):\n",
    "            if(arr[i] + arr[j])==x:\n",
    "                count=count+1\n",
    "    return count\n",
    "\n",
    "arr=[2,7,4,1,3,6]\n",
    "x=10\n",
    "n=len(arr)\n",
    "print(f\"The pairs are {get_sum_10(arr,n,x)}\")"
   ]
  },
  {
   "cell_type": "code",
   "execution_count": 45,
   "id": "063aa858-2461-4436-bdfd-09551bfed71e",
   "metadata": {},
   "outputs": [
    {
     "name": "stdout",
     "output_type": "stream",
     "text": [
      "The difference between the largest and smallest number is: 3\n"
     ]
    }
   ],
   "source": [
    "def find_difference(numbers):\n",
    "    if not numbers:\n",
    "        return None\n",
    "    \n",
    "    \n",
    "    max_num = numbers[0]\n",
    "    min_num = numbers[0]\n",
    "    \n",
    "    for number in numbers[1:]:\n",
    "        if number>max_num:\n",
    "            max_num = number\n",
    "        if number<min_num:\n",
    "            min_num =  number\n",
    "    \n",
    "    return max_num-min_num\n",
    "\n",
    "\n",
    "numbers = [3, 5,4,5,6]\n",
    "difference = find_difference(numbers)\n",
    "\n",
    "if len(numbers)<3:\n",
    "        print(\"Not valid\")\n",
    "else:\n",
    "    print(f\"The difference between the largest and smallest number is: {difference}\")\n",
    "    \n",
    "\n",
    "\n",
    "\n"
   ]
  },
  {
   "cell_type": "code",
   "execution_count": 57,
   "id": "a24a284e-64e1-441b-833f-682fcbc66082",
   "metadata": {},
   "outputs": [
    {
     "name": "stdin",
     "output_type": "stream",
     "text": [
      "Enter the size of the square matrix (n):  4\n"
     ]
    },
    {
     "name": "stdout",
     "output_type": "stream",
     "text": [
      "Matrix A:\n",
      "Enter the elements of the 4x4 matrix row by row, separated by spaces:\n"
     ]
    },
    {
     "name": "stdin",
     "output_type": "stream",
     "text": [
      " 1 2 3 4 \n"
     ]
    },
    {
     "ename": "TypeError",
     "evalue": "'str' object is not callable",
     "output_type": "error",
     "traceback": [
      "\u001b[0;31m---------------------------------------------------------------------------\u001b[0m",
      "\u001b[0;31mTypeError\u001b[0m                                 Traceback (most recent call last)",
      "Cell \u001b[0;32mIn[57], line 43\u001b[0m\n\u001b[1;32m     41\u001b[0m n \u001b[38;5;241m=\u001b[39m \u001b[38;5;28mint\u001b[39m(\u001b[38;5;28minput\u001b[39m(\u001b[38;5;124m\"\u001b[39m\u001b[38;5;124mEnter the size of the square matrix (n): \u001b[39m\u001b[38;5;124m\"\u001b[39m))\n\u001b[1;32m     42\u001b[0m \u001b[38;5;28mprint\u001b[39m(\u001b[38;5;124m\"\u001b[39m\u001b[38;5;124mMatrix A:\u001b[39m\u001b[38;5;124m\"\u001b[39m)\n\u001b[0;32m---> 43\u001b[0m matrix \u001b[38;5;241m=\u001b[39m input_square_matrix(n)\n\u001b[1;32m     44\u001b[0m m \u001b[38;5;241m=\u001b[39m \u001b[38;5;28mint\u001b[39m(\u001b[38;5;28minput\u001b[39m(\u001b[38;5;124m\"\u001b[39m\u001b[38;5;124mEnter the power m: \u001b[39m\u001b[38;5;124m\"\u001b[39m))\n\u001b[1;32m     46\u001b[0m result_matrix \u001b[38;5;241m=\u001b[39m matrix_power(matrix, m)\n",
      "Cell \u001b[0;32mIn[57], line 5\u001b[0m, in \u001b[0;36minput_square_matrix\u001b[0;34m(n)\u001b[0m\n\u001b[1;32m      3\u001b[0m \u001b[38;5;28mprint\u001b[39m(\u001b[38;5;124mf\u001b[39m\u001b[38;5;124m\"\u001b[39m\u001b[38;5;124mEnter the elements of the \u001b[39m\u001b[38;5;132;01m{\u001b[39;00mn\u001b[38;5;132;01m}\u001b[39;00m\u001b[38;5;124mx\u001b[39m\u001b[38;5;132;01m{\u001b[39;00mn\u001b[38;5;132;01m}\u001b[39;00m\u001b[38;5;124m matrix row by row, separated by spaces:\u001b[39m\u001b[38;5;124m\"\u001b[39m)\n\u001b[1;32m      4\u001b[0m \u001b[38;5;28;01mfor\u001b[39;00m _ \u001b[38;5;129;01min\u001b[39;00m \u001b[38;5;28mrange\u001b[39m(n):\n\u001b[0;32m----> 5\u001b[0m     row \u001b[38;5;241m=\u001b[39m \u001b[38;5;28mlist\u001b[39m(\u001b[38;5;28mmap\u001b[39m(\u001b[38;5;28mint\u001b[39m, \u001b[38;5;28minput\u001b[39m()\u001b[38;5;241m.\u001b[39msplit()))\n\u001b[1;32m      6\u001b[0m     \u001b[38;5;28;01mif\u001b[39;00m \u001b[38;5;28mlen\u001b[39m(row) \u001b[38;5;241m!=\u001b[39m n:\n\u001b[1;32m      7\u001b[0m         \u001b[38;5;28;01mraise\u001b[39;00m \u001b[38;5;167;01mValueError\u001b[39;00m(\u001b[38;5;124m\"\u001b[39m\u001b[38;5;124mEach row must have exactly n elements.\u001b[39m\u001b[38;5;124m\"\u001b[39m)\n",
      "\u001b[0;31mTypeError\u001b[0m: 'str' object is not callable"
     ]
    }
   ],
   "source": [
    "def input_square_matrix(n):\n",
    "    matrix = []\n",
    "    print(f\"Enter the elements of the {n}x{n} matrix row by row, separated by spaces:\")\n",
    "    for _ in range(n):\n",
    "        row = list(map(int, input().split()))\n",
    "        if len(row) != n:\n",
    "            raise ValueError(\"Each row must have exactly n elements.\")\n",
    "        matrix.append(row)\n",
    "    return matrix\n",
    "\n",
    "def multiply_matrices(matrix1, matrix2):\n",
    "    n = len(matrix1)\n",
    "    result = [[0] * n for _ in range(n)]\n",
    "    \n",
    "    for i in range(n):\n",
    "        for j in range(n):\n",
    "            for k in range(n):\n",
    "                result[i][j] += matrix1[i][k] * matrix2[k][j]\n",
    "    \n",
    "    return result\n",
    "\n",
    "def matrix_power(matrix, m):\n",
    "    n = len(matrix)\n",
    "    result = [[1 if i == j else 0 for j in range(n)] for i in range(n)]  # Identity matrix\n",
    "    \n",
    "    temp_matrix = matrix\n",
    "    \n",
    "    while m > 0:\n",
    "        if m % 2 == 1:\n",
    "            result = multiply_matrices(result, temp_matrix)\n",
    "        temp_matrix = multiply_matrices(temp_matrix, temp_matrix)\n",
    "        m //= 2\n",
    "    \n",
    "    return result\n",
    "\n",
    "def print_matrix(matrix):\n",
    "    for row in matrix:\n",
    "        print(\" \".join(map(str, row)))\n",
    "\n",
    "# Main program\n",
    "n = int(input(\"Enter the size of the square matrix (n): \"))\n",
    "print(\"Matrix A:\")\n",
    "matrix = input_square_matrix(n)\n",
    "m = int(input(\"Enter the power m: \"))\n",
    "\n",
    "result_matrix = matrix_power(matrix, m)\n",
    "\n",
    "print(f\"Matrix A^{m} is:\")\n",
    "print_matrix(result_matrix)\n",
    "\n",
    "\n",
    "\n",
    "\n"
   ]
  },
  {
   "cell_type": "code",
   "execution_count": 59,
   "id": "85a6b860-3303-4e3c-82b3-3b0cbcb79cbb",
   "metadata": {},
   "outputs": [
    {
     "name": "stdin",
     "output_type": "stream",
     "text": [
      "Enter a string:  hello\n"
     ]
    },
    {
     "name": "stdout",
     "output_type": "stream",
     "text": [
      "The highest occurring character is 'l' with 2 occurrences.\n"
     ]
    }
   ],
   "source": [
    "def count_highest_occurring_char(s):\n",
    "    char_count = {}\n",
    "\n",
    "    for char in s.lower():\n",
    "        if char.isalpha():\n",
    "            if char in char_count:\n",
    "                char_count[char] += 1\n",
    "            else:\n",
    "                char_count[char] = 1\n",
    "    \n",
    "    if not char_count:\n",
    "        return None, 0  \n",
    "    \n",
    "\n",
    "    max_char = None\n",
    "    max_count = 0\n",
    "    \n",
    "    for char, count in char_count.items():\n",
    "        if count > max_count:\n",
    "            max_char = char\n",
    "            max_count = count\n",
    "    \n",
    "    return max_char, max_count\n",
    "\n",
    "\n",
    "input_string = input(\"Enter a string: \")\n",
    "char, count = count_highest_occurring_char(input_string)\n",
    "\n",
    "if char is not None:\n",
    "    print(f\"The highest occurring character is '{char}' with {count} occurrences.\")\n",
    "else:\n",
    "    print(\"No alphabetic characters found in the input string.\")\n"
   ]
  },
  {
   "cell_type": "code",
   "execution_count": null,
   "id": "a39e237d-864a-4a75-af60-7cde8a56f7c6",
   "metadata": {},
   "outputs": [],
   "source": []
  }
 ],
 "metadata": {
  "kernelspec": {
   "display_name": "Python 3 (ipykernel)",
   "language": "python",
   "name": "python3"
  },
  "language_info": {
   "codemirror_mode": {
    "name": "ipython",
    "version": 3
   },
   "file_extension": ".py",
   "mimetype": "text/x-python",
   "name": "python",
   "nbconvert_exporter": "python",
   "pygments_lexer": "ipython3",
   "version": "3.12.4"
  }
 },
 "nbformat": 4,
 "nbformat_minor": 5
}
